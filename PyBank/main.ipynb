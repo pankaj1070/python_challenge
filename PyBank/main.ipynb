{
 "cells": [
  {
   "cell_type": "code",
   "execution_count": 50,
   "id": "4e090c93-06dc-4079-b1da-dcf5d399415e",
   "metadata": {},
   "outputs": [],
   "source": [
    "# Importing csv\n",
    "from pathlib import Path\n",
    "import csv"
   ]
  },
  {
   "cell_type": "code",
   "execution_count": 51,
   "id": "b4d6f688-1788-480a-babd-c61bca98be47",
   "metadata": {},
   "outputs": [],
   "source": [
    "# File path for Budget_data\n",
    "csvpath = Path('C:/Users/panka/Documents/Python_Challenge/PyBank/budget_data.csv')"
   ]
  },
  {
   "cell_type": "code",
   "execution_count": 52,
   "id": "0cd448c6-4741-4e3c-9b9c-52700e2eb28c",
   "metadata": {},
   "outputs": [],
   "source": [
    "# Intializing data objects\n",
    "profit = []\n",
    "date = []\n",
    "profit_change = []\n",
    "report ={}"
   ]
  },
  {
   "cell_type": "code",
   "execution_count": 53,
   "id": "98e0d3be-fdf1-4e5e-bfad-af6086a1ab15",
   "metadata": {},
   "outputs": [
    {
     "name": "stdout",
     "output_type": "stream",
     "text": [
      "Financial Analysis\n",
      "-----------------------------------\n",
      "Total Months: 86\n",
      "Total: $ 38382578.0\n",
      "Avereage Change: $ -2315.12\n",
      "Greatest Increase in Profits: Jan-2012 ($ 1926159.0 )\n",
      "Greatest Decrease in Profits: Aug-2013 ($ -2196167.0 )\n"
     ]
    }
   ],
   "source": [
    "# Read in the budget data\n",
    "with open(csvpath, 'r') as csvfile:\n",
    "    # creating a csv reader object\n",
    "    csvreader = csv.reader(csvfile, delimiter=\",\")\n",
    "    \n",
    "    # Skip header of menu data\n",
    "    csv_header = next(csvreader) \n",
    "    \n",
    "    # extracting each data row one by one\n",
    "    for row in csvreader:\n",
    "        profit.append(float(row[1]))\n",
    "        date.append(row[0])\n",
    "        \n",
    "    #Create a loop to calculate average, amx and min profit/losses    \n",
    "    for i in range(1,len(profit)):\n",
    "        profit_change.append(profit[i] - profit[i-1])   \n",
    "        avg_profit_change = sum(profit_change)/len(profit_change)\n",
    "\n",
    "        max_profit_change = max(profit_change)\n",
    "\n",
    "        min_profit_change = min(profit_change)\n",
    "\n",
    "        max_profit_change_date = str(date[profit_change.index(max(profit_change))])\n",
    "        min_profit_change_date = str(date[profit_change.index(min(profit_change))])\n",
    "        \n",
    "\n",
    "    print(\"Financial Analysis\")\n",
    "    print(\"-----------------------------------\")\n",
    "    print(\"Total Months:\", len(date))\n",
    "    print(\"Total: $\", sum(profit))\n",
    "    print(\"Avereage Change: $\", round(avg_profit_change,2))\n",
    "    print(\"Greatest Increase in Profits:\", max_rev_change_date,\"($\", max_profit_change,\")\")\n",
    "    print(\"Greatest Decrease in Profits:\", min_rev_change_date,\"($\", min_profit_change,\")\")\n",
    "\n",
    "    "
   ]
  },
  {
   "cell_type": "code",
   "execution_count": null,
   "id": "8e4c7f22-965e-4241-a1b1-e0fa0bfba26c",
   "metadata": {},
   "outputs": [],
   "source": [
    "\n",
    "\n",
    "\n"
   ]
  },
  {
   "cell_type": "code",
   "execution_count": null,
   "id": "31e8c9f0-a151-4120-9ce4-78ae90f00d13",
   "metadata": {},
   "outputs": [],
   "source": []
  }
 ],
 "metadata": {
  "kernelspec": {
   "display_name": "dev",
   "language": "python",
   "name": "dev"
  },
  "language_info": {
   "codemirror_mode": {
    "name": "ipython",
    "version": 3
   },
   "file_extension": ".py",
   "mimetype": "text/x-python",
   "name": "python",
   "nbconvert_exporter": "python",
   "pygments_lexer": "ipython3",
   "version": "3.9.7"
  }
 },
 "nbformat": 4,
 "nbformat_minor": 5
}
